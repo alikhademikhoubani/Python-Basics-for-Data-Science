{
 "cells": [
  {
   "cell_type": "markdown",
   "id": "59871c79",
   "metadata": {},
   "source": [
    "# Variables"
   ]
  },
  {
   "cell_type": "code",
   "execution_count": 1,
   "id": "c5638ae5",
   "metadata": {},
   "outputs": [],
   "source": [
    "# In python \"=\" means 'assign' or 'bind to'\n",
    "x=4"
   ]
  },
  {
   "cell_type": "code",
   "execution_count": 2,
   "id": "d2c059db",
   "metadata": {},
   "outputs": [
    {
     "data": {
      "text/plain": [
       "4"
      ]
     },
     "execution_count": 2,
     "metadata": {},
     "output_type": "execute_result"
    }
   ],
   "source": [
    "x"
   ]
  },
  {
   "cell_type": "code",
   "execution_count": 3,
   "id": "3bfda2d4",
   "metadata": {},
   "outputs": [
    {
     "data": {
      "text/plain": [
       "4"
      ]
     },
     "execution_count": 3,
     "metadata": {},
     "output_type": "execute_result"
    }
   ],
   "source": [
    "x = 4\n",
    "x"
   ]
  },
  {
   "cell_type": "code",
   "execution_count": 4,
   "id": "6b132ced",
   "metadata": {},
   "outputs": [],
   "source": [
    "x, y = 1, 4"
   ]
  },
  {
   "cell_type": "code",
   "execution_count": 5,
   "id": "9a20c2fc",
   "metadata": {},
   "outputs": [
    {
     "data": {
      "text/plain": [
       "1"
      ]
     },
     "execution_count": 5,
     "metadata": {},
     "output_type": "execute_result"
    }
   ],
   "source": [
    "x"
   ]
  },
  {
   "cell_type": "code",
   "execution_count": 6,
   "id": "0b1bac9b",
   "metadata": {},
   "outputs": [
    {
     "data": {
      "text/plain": [
       "4"
      ]
     },
     "execution_count": 6,
     "metadata": {},
     "output_type": "execute_result"
    }
   ],
   "source": [
    "y"
   ]
  },
  {
   "cell_type": "code",
   "execution_count": 7,
   "id": "a6dc743a",
   "metadata": {},
   "outputs": [],
   "source": [
    "x, y = (1, 4)"
   ]
  },
  {
   "cell_type": "code",
   "execution_count": 8,
   "id": "5cc00f3a",
   "metadata": {},
   "outputs": [
    {
     "data": {
      "text/plain": [
       "1"
      ]
     },
     "execution_count": 8,
     "metadata": {},
     "output_type": "execute_result"
    }
   ],
   "source": [
    "x"
   ]
  },
  {
   "cell_type": "code",
   "execution_count": 9,
   "id": "6127f91c",
   "metadata": {},
   "outputs": [
    {
     "data": {
      "text/plain": [
       "4"
      ]
     },
     "execution_count": 9,
     "metadata": {},
     "output_type": "execute_result"
    }
   ],
   "source": [
    "y"
   ]
  },
  {
   "cell_type": "code",
   "execution_count": 10,
   "id": "c6095dfa",
   "metadata": {},
   "outputs": [
    {
     "name": "stdout",
     "output_type": "stream",
     "text": [
      "6\n"
     ]
    }
   ],
   "source": [
    "w = 6\n",
    "print (w)"
   ]
  },
  {
   "cell_type": "code",
   "execution_count": 11,
   "id": "c112dbe4",
   "metadata": {},
   "outputs": [
    {
     "data": {
      "text/plain": [
       "int"
      ]
     },
     "execution_count": 11,
     "metadata": {},
     "output_type": "execute_result"
    }
   ],
   "source": [
    "x1 = 6\n",
    "type (x1)"
   ]
  },
  {
   "cell_type": "code",
   "execution_count": 12,
   "id": "7862e0bc",
   "metadata": {},
   "outputs": [
    {
     "data": {
      "text/plain": [
       "float"
      ]
     },
     "execution_count": 12,
     "metadata": {},
     "output_type": "execute_result"
    }
   ],
   "source": [
    "x2 = 0.6\n",
    "type (x2)"
   ]
  },
  {
   "cell_type": "code",
   "execution_count": 13,
   "id": "55a34d05",
   "metadata": {},
   "outputs": [
    {
     "data": {
      "text/plain": [
       "1"
      ]
     },
     "execution_count": 13,
     "metadata": {},
     "output_type": "execute_result"
    }
   ],
   "source": [
    "x3 = 1.4\n",
    "int (x3)"
   ]
  },
  {
   "cell_type": "code",
   "execution_count": 14,
   "id": "fa56c541",
   "metadata": {},
   "outputs": [
    {
     "data": {
      "text/plain": [
       "1"
      ]
     },
     "execution_count": 14,
     "metadata": {},
     "output_type": "execute_result"
    }
   ],
   "source": [
    "x3 = 1.7\n",
    "int (x3)"
   ]
  },
  {
   "cell_type": "code",
   "execution_count": 18,
   "id": "e618810e",
   "metadata": {},
   "outputs": [
    {
     "data": {
      "text/plain": [
       "2.0"
      ]
     },
     "execution_count": 18,
     "metadata": {},
     "output_type": "execute_result"
    }
   ],
   "source": [
    "x4 = 2\n",
    "float (x4)"
   ]
  },
  {
   "cell_type": "markdown",
   "id": "646eabc6",
   "metadata": {},
   "source": [
    "# Boolean Values"
   ]
  },
  {
   "cell_type": "markdown",
   "id": "68ba19d3",
   "metadata": {},
   "source": [
    "# text values composed of a sequence of characters"
   ]
  },
  {
   "cell_type": "code",
   "execution_count": 19,
   "id": "32971c60",
   "metadata": {},
   "outputs": [
    {
     "data": {
      "text/plain": [
       "bool"
      ]
     },
     "execution_count": 19,
     "metadata": {},
     "output_type": "execute_result"
    }
   ],
   "source": [
    "x5 = True\n",
    "type (x5)"
   ]
  },
  {
   "cell_type": "markdown",
   "id": "56d3e353",
   "metadata": {},
   "source": [
    "# Strings"
   ]
  },
  {
   "cell_type": "code",
   "execution_count": 20,
   "id": "ba0e66f3",
   "metadata": {},
   "outputs": [
    {
     "name": "stdout",
     "output_type": "stream",
     "text": [
      "Amin\n"
     ]
    }
   ],
   "source": [
    "print ('Amin')"
   ]
  },
  {
   "cell_type": "code",
   "execution_count": 21,
   "id": "fd3702c2",
   "metadata": {},
   "outputs": [
    {
     "name": "stdout",
     "output_type": "stream",
     "text": [
      "Amin\n"
     ]
    }
   ],
   "source": [
    "print (\"Amin\")"
   ]
  },
  {
   "cell_type": "code",
   "execution_count": 22,
   "id": "e330ed76",
   "metadata": {},
   "outputs": [
    {
     "data": {
      "text/plain": [
       "str"
      ]
     },
     "execution_count": 22,
     "metadata": {},
     "output_type": "execute_result"
    }
   ],
   "source": [
    "x7 = 'Amin'\n",
    "type (x7)"
   ]
  },
  {
   "cell_type": "code",
   "execution_count": 24,
   "id": "9ec9ea51",
   "metadata": {},
   "outputs": [
    {
     "name": "stdout",
     "output_type": "stream",
     "text": [
      "10 Dollars\n"
     ]
    }
   ],
   "source": [
    "y = 10\n",
    "print (str (y) + ' Dollars')"
   ]
  },
  {
   "cell_type": "code",
   "execution_count": 26,
   "id": "b2098f2e",
   "metadata": {},
   "outputs": [
    {
     "name": "stdout",
     "output_type": "stream",
     "text": [
      "10 Dollars\n"
     ]
    }
   ],
   "source": [
    "y = '10'\n",
    "print (y + ' Dollars')"
   ]
  },
  {
   "cell_type": "code",
   "execution_count": 27,
   "id": "6c224fb9",
   "metadata": {},
   "outputs": [
    {
     "data": {
      "text/plain": [
       "\"i'm fine\""
      ]
     },
     "execution_count": 27,
     "metadata": {},
     "output_type": "execute_result"
    }
   ],
   "source": [
    "\"i'm fine\""
   ]
  },
  {
   "cell_type": "code",
   "execution_count": 30,
   "id": "65850d27",
   "metadata": {},
   "outputs": [
    {
     "data": {
      "text/plain": [
       "\"i'm fine\""
      ]
     },
     "execution_count": 30,
     "metadata": {},
     "output_type": "execute_result"
    }
   ],
   "source": [
    "'i\\'m fine'"
   ]
  },
  {
   "cell_type": "code",
   "execution_count": 31,
   "id": "b03d2595",
   "metadata": {},
   "outputs": [
    {
     "data": {
      "text/plain": [
       "'blue flower'"
      ]
     },
     "execution_count": 31,
     "metadata": {},
     "output_type": "execute_result"
    }
   ],
   "source": [
    "'blue ' 'flower'"
   ]
  },
  {
   "cell_type": "code",
   "execution_count": 32,
   "id": "5d3ab25a",
   "metadata": {},
   "outputs": [
    {
     "name": "stdout",
     "output_type": "stream",
     "text": [
      "blue flower\n"
     ]
    }
   ],
   "source": [
    "print ('blue' ' flower')"
   ]
  },
  {
   "cell_type": "code",
   "execution_count": 33,
   "id": "8618dc95",
   "metadata": {},
   "outputs": [
    {
     "name": "stdout",
     "output_type": "stream",
     "text": [
      "blue flower\n"
     ]
    }
   ],
   "source": [
    "print ('blue ' + 'flower')"
   ]
  },
  {
   "cell_type": "code",
   "execution_count": 34,
   "id": "b5727ead",
   "metadata": {},
   "outputs": [
    {
     "name": "stdout",
     "output_type": "stream",
     "text": [
      "blue flower\n"
     ]
    }
   ],
   "source": [
    "print ('blue' , 'flower')"
   ]
  },
  {
   "cell_type": "code",
   "execution_count": 35,
   "id": "f8f03a3c",
   "metadata": {},
   "outputs": [
    {
     "data": {
      "text/plain": [
       "(1, 3, 'car', 0.5)"
      ]
     },
     "execution_count": 35,
     "metadata": {},
     "output_type": "execute_result"
    }
   ],
   "source": [
    "1, 3, 'car', 0.5"
   ]
  },
  {
   "cell_type": "markdown",
   "id": "eff29594",
   "metadata": {},
   "source": [
    "# Arithmethic Operands"
   ]
  },
  {
   "cell_type": "markdown",
   "id": "f525c3af",
   "metadata": {},
   "source": [
    "# operand, operator, reminder and power"
   ]
  },
  {
   "cell_type": "code",
   "execution_count": 1,
   "id": "56174ae9",
   "metadata": {},
   "outputs": [
    {
     "data": {
      "text/plain": [
       "5"
      ]
     },
     "execution_count": 1,
     "metadata": {},
     "output_type": "execute_result"
    }
   ],
   "source": [
    "2 + 3"
   ]
  },
  {
   "cell_type": "code",
   "execution_count": 2,
   "id": "198de381",
   "metadata": {},
   "outputs": [
    {
     "data": {
      "text/plain": [
       "-1"
      ]
     },
     "execution_count": 2,
     "metadata": {},
     "output_type": "execute_result"
    }
   ],
   "source": [
    "2 - 3"
   ]
  },
  {
   "cell_type": "code",
   "execution_count": 3,
   "id": "5f211ebd",
   "metadata": {},
   "outputs": [
    {
     "data": {
      "text/plain": [
       "0.5"
      ]
     },
     "execution_count": 3,
     "metadata": {},
     "output_type": "execute_result"
    }
   ],
   "source": [
    "2 / 4"
   ]
  },
  {
   "cell_type": "code",
   "execution_count": 4,
   "id": "11fba3c3",
   "metadata": {},
   "outputs": [
    {
     "data": {
      "text/plain": [
       "2.0"
      ]
     },
     "execution_count": 4,
     "metadata": {},
     "output_type": "execute_result"
    }
   ],
   "source": [
    "4 / 2"
   ]
  },
  {
   "cell_type": "code",
   "execution_count": 5,
   "id": "a5fb5325",
   "metadata": {},
   "outputs": [
    {
     "data": {
      "text/plain": [
       "1"
      ]
     },
     "execution_count": 5,
     "metadata": {},
     "output_type": "execute_result"
    }
   ],
   "source": [
    "5 % 2"
   ]
  },
  {
   "cell_type": "code",
   "execution_count": 6,
   "id": "b2a3214e",
   "metadata": {},
   "outputs": [
    {
     "data": {
      "text/plain": [
       "8"
      ]
     },
     "execution_count": 6,
     "metadata": {},
     "output_type": "execute_result"
    }
   ],
   "source": [
    "2 ** 3"
   ]
  },
  {
   "cell_type": "markdown",
   "id": "3cf0c396",
   "metadata": {},
   "source": [
    "# assign and equals"
   ]
  },
  {
   "cell_type": "code",
   "execution_count": 7,
   "id": "1396bf2a",
   "metadata": {},
   "outputs": [
    {
     "data": {
      "text/plain": [
       "25"
      ]
     },
     "execution_count": 7,
     "metadata": {},
     "output_type": "execute_result"
    }
   ],
   "source": [
    "y = 5 ** 2\n",
    "y"
   ]
  },
  {
   "cell_type": "code",
   "execution_count": 8,
   "id": "e49b6e94",
   "metadata": {},
   "outputs": [
    {
     "data": {
      "text/plain": [
       "False"
      ]
     },
     "execution_count": 8,
     "metadata": {},
     "output_type": "execute_result"
    }
   ],
   "source": [
    "y == 26"
   ]
  },
  {
   "cell_type": "code",
   "execution_count": 9,
   "id": "1ee7ae30",
   "metadata": {},
   "outputs": [
    {
     "data": {
      "text/plain": [
       "True"
      ]
     },
     "execution_count": 9,
     "metadata": {},
     "output_type": "execute_result"
    }
   ],
   "source": [
    "y == 25"
   ]
  },
  {
   "cell_type": "markdown",
   "id": "b9e203da",
   "metadata": {},
   "source": [
    "# Reassign Value"
   ]
  },
  {
   "cell_type": "code",
   "execution_count": 10,
   "id": "956d6349",
   "metadata": {},
   "outputs": [
    {
     "data": {
      "text/plain": [
       "1"
      ]
     },
     "execution_count": 10,
     "metadata": {},
     "output_type": "execute_result"
    }
   ],
   "source": [
    "z = 1\n",
    "z"
   ]
  },
  {
   "cell_type": "code",
   "execution_count": 11,
   "id": "d7fb60df",
   "metadata": {},
   "outputs": [
    {
     "data": {
      "text/plain": [
       "5"
      ]
     },
     "execution_count": 11,
     "metadata": {},
     "output_type": "execute_result"
    }
   ],
   "source": [
    "z = 5\n",
    "z"
   ]
  },
  {
   "cell_type": "code",
   "execution_count": 12,
   "id": "fddb2ef0",
   "metadata": {},
   "outputs": [
    {
     "data": {
      "text/plain": [
       "8"
      ]
     },
     "execution_count": 12,
     "metadata": {},
     "output_type": "execute_result"
    }
   ],
   "source": [
    "z + 3"
   ]
  },
  {
   "cell_type": "markdown",
   "id": "0ce88950",
   "metadata": {},
   "source": [
    "# Line Continuation"
   ]
  },
  {
   "cell_type": "code",
   "execution_count": 13,
   "id": "8bb063e9",
   "metadata": {},
   "outputs": [
    {
     "data": {
      "text/plain": [
       "10"
      ]
     },
     "execution_count": 13,
     "metadata": {},
     "output_type": "execute_result"
    }
   ],
   "source": [
    "2 + 3 + 5"
   ]
  },
  {
   "cell_type": "code",
   "execution_count": 14,
   "id": "9780e09f",
   "metadata": {},
   "outputs": [
    {
     "data": {
      "text/plain": [
       "10"
      ]
     },
     "execution_count": 14,
     "metadata": {},
     "output_type": "execute_result"
    }
   ],
   "source": [
    "2 + 3 + \\\n",
    "5"
   ]
  },
  {
   "cell_type": "markdown",
   "id": "21bdc60d",
   "metadata": {},
   "source": [
    "# indexing elements"
   ]
  },
  {
   "cell_type": "code",
   "execution_count": 15,
   "id": "fe54b5a3",
   "metadata": {},
   "outputs": [
    {
     "data": {
      "text/plain": [
       "'Monday'"
      ]
     },
     "execution_count": 15,
     "metadata": {},
     "output_type": "execute_result"
    }
   ],
   "source": [
    "'Monday'"
   ]
  },
  {
   "cell_type": "code",
   "execution_count": 16,
   "id": "0b30b5e3",
   "metadata": {},
   "outputs": [
    {
     "data": {
      "text/plain": [
       "'M'"
      ]
     },
     "execution_count": 16,
     "metadata": {},
     "output_type": "execute_result"
    }
   ],
   "source": [
    "'Monday'[0]"
   ]
  },
  {
   "cell_type": "code",
   "execution_count": 17,
   "id": "58238d2d",
   "metadata": {},
   "outputs": [
    {
     "data": {
      "text/plain": [
       "'a'"
      ]
     },
     "execution_count": 17,
     "metadata": {},
     "output_type": "execute_result"
    }
   ],
   "source": [
    "\"Monday\"[4]"
   ]
  },
  {
   "cell_type": "markdown",
   "id": "c48df05c",
   "metadata": {},
   "source": [
    "# Comparison Operators"
   ]
  },
  {
   "cell_type": "code",
   "execution_count": 18,
   "id": "2cc2fcb2",
   "metadata": {},
   "outputs": [
    {
     "data": {
      "text/plain": [
       "True"
      ]
     },
     "execution_count": 18,
     "metadata": {},
     "output_type": "execute_result"
    }
   ],
   "source": [
    "10 == 20/2"
   ]
  },
  {
   "cell_type": "code",
   "execution_count": 19,
   "id": "db3d3800",
   "metadata": {},
   "outputs": [
    {
     "data": {
      "text/plain": [
       "False"
      ]
     },
     "execution_count": 19,
     "metadata": {},
     "output_type": "execute_result"
    }
   ],
   "source": [
    "10 == 10/2 + 7"
   ]
  },
  {
   "cell_type": "code",
   "execution_count": 20,
   "id": "e19791b7",
   "metadata": {},
   "outputs": [
    {
     "data": {
      "text/plain": [
       "False"
      ]
     },
     "execution_count": 20,
     "metadata": {},
     "output_type": "execute_result"
    }
   ],
   "source": [
    "# '!=' means not equal\n",
    "10 != 10"
   ]
  },
  {
   "cell_type": "code",
   "execution_count": 21,
   "id": "7a8a623d",
   "metadata": {},
   "outputs": [
    {
     "data": {
      "text/plain": [
       "False"
      ]
     },
     "execution_count": 21,
     "metadata": {},
     "output_type": "execute_result"
    }
   ],
   "source": [
    "10 < 10"
   ]
  },
  {
   "cell_type": "code",
   "execution_count": 22,
   "id": "5189e434",
   "metadata": {},
   "outputs": [
    {
     "data": {
      "text/plain": [
       "True"
      ]
     },
     "execution_count": 22,
     "metadata": {},
     "output_type": "execute_result"
    }
   ],
   "source": [
    "10 < 12"
   ]
  },
  {
   "cell_type": "code",
   "execution_count": 23,
   "id": "b44cb98c",
   "metadata": {},
   "outputs": [
    {
     "data": {
      "text/plain": [
       "True"
      ]
     },
     "execution_count": 23,
     "metadata": {},
     "output_type": "execute_result"
    }
   ],
   "source": [
    "10 <= 10"
   ]
  },
  {
   "cell_type": "markdown",
   "id": "29b1a67a",
   "metadata": {},
   "source": [
    "## similarity we have, > and >= operators which compare two numbers"
   ]
  },
  {
   "cell_type": "markdown",
   "id": "d71e822b",
   "metadata": {},
   "source": [
    "# Logical Operators, NOT - OR - AND"
   ]
  },
  {
   "cell_type": "code",
   "execution_count": 27,
   "id": "bd1c9175",
   "metadata": {},
   "outputs": [
    {
     "data": {
      "text/plain": [
       "True"
      ]
     },
     "execution_count": 27,
     "metadata": {},
     "output_type": "execute_result"
    }
   ],
   "source": [
    "# AND checks whether the two statements around it are true\n",
    "True and True"
   ]
  },
  {
   "cell_type": "code",
   "execution_count": 28,
   "id": "e5a6db8a",
   "metadata": {},
   "outputs": [
    {
     "data": {
      "text/plain": [
       "False"
      ]
     },
     "execution_count": 28,
     "metadata": {},
     "output_type": "execute_result"
    }
   ],
   "source": [
    "True and False"
   ]
  },
  {
   "cell_type": "code",
   "execution_count": 29,
   "id": "0325851e",
   "metadata": {},
   "outputs": [
    {
     "data": {
      "text/plain": [
       "False"
      ]
     },
     "execution_count": 29,
     "metadata": {},
     "output_type": "execute_result"
    }
   ],
   "source": [
    "False and True"
   ]
  },
  {
   "cell_type": "code",
   "execution_count": 30,
   "id": "7e221024",
   "metadata": {},
   "outputs": [
    {
     "data": {
      "text/plain": [
       "True"
      ]
     },
     "execution_count": 30,
     "metadata": {},
     "output_type": "execute_result"
    }
   ],
   "source": [
    "1<2 and True"
   ]
  },
  {
   "cell_type": "code",
   "execution_count": 31,
   "id": "451e8297",
   "metadata": {},
   "outputs": [
    {
     "data": {
      "text/plain": [
       "False"
      ]
     },
     "execution_count": 31,
     "metadata": {},
     "output_type": "execute_result"
    }
   ],
   "source": [
    "1<2 and 1<0"
   ]
  },
  {
   "cell_type": "code",
   "execution_count": 32,
   "id": "c51f9903",
   "metadata": {},
   "outputs": [
    {
     "data": {
      "text/plain": [
       "True"
      ]
     },
     "execution_count": 32,
     "metadata": {},
     "output_type": "execute_result"
    }
   ],
   "source": [
    "# OR checks whether at least one of the statemnets is true\n",
    "True or True"
   ]
  },
  {
   "cell_type": "code",
   "execution_count": 33,
   "id": "ea5cddff",
   "metadata": {},
   "outputs": [
    {
     "data": {
      "text/plain": [
       "True"
      ]
     },
     "execution_count": 33,
     "metadata": {},
     "output_type": "execute_result"
    }
   ],
   "source": [
    "True or False"
   ]
  },
  {
   "cell_type": "code",
   "execution_count": 34,
   "id": "a8ad5fe7",
   "metadata": {},
   "outputs": [
    {
     "data": {
      "text/plain": [
       "False"
      ]
     },
     "execution_count": 34,
     "metadata": {},
     "output_type": "execute_result"
    }
   ],
   "source": [
    "False or False"
   ]
  },
  {
   "cell_type": "code",
   "execution_count": 35,
   "id": "b10b1b37",
   "metadata": {},
   "outputs": [
    {
     "data": {
      "text/plain": [
       "True"
      ]
     },
     "execution_count": 35,
     "metadata": {},
     "output_type": "execute_result"
    }
   ],
   "source": [
    "# NOT leads to the opposite of the statement\n",
    "not False"
   ]
  },
  {
   "cell_type": "code",
   "execution_count": 36,
   "id": "c075c13e",
   "metadata": {},
   "outputs": [
    {
     "data": {
      "text/plain": [
       "False"
      ]
     },
     "execution_count": 36,
     "metadata": {},
     "output_type": "execute_result"
    }
   ],
   "source": [
    "not True"
   ]
  },
  {
   "cell_type": "code",
   "execution_count": 37,
   "id": "33c84fd9",
   "metadata": {},
   "outputs": [
    {
     "data": {
      "text/plain": [
       "False"
      ]
     },
     "execution_count": 37,
     "metadata": {},
     "output_type": "execute_result"
    }
   ],
   "source": [
    "3 > 5 and 10>=10"
   ]
  },
  {
   "cell_type": "code",
   "execution_count": 39,
   "id": "96ee2b5a",
   "metadata": {},
   "outputs": [
    {
     "data": {
      "text/plain": [
       "False"
      ]
     },
     "execution_count": 39,
     "metadata": {},
     "output_type": "execute_result"
    }
   ],
   "source": [
    "# Not > And > Or\n",
    "True and not True"
   ]
  },
  {
   "cell_type": "code",
   "execution_count": 40,
   "id": "b5d46271",
   "metadata": {},
   "outputs": [
    {
     "data": {
      "text/plain": [
       "True"
      ]
     },
     "execution_count": 40,
     "metadata": {},
     "output_type": "execute_result"
    }
   ],
   "source": [
    "False or not True or True"
   ]
  },
  {
   "cell_type": "code",
   "execution_count": 41,
   "id": "886dab78",
   "metadata": {},
   "outputs": [
    {
     "data": {
      "text/plain": [
       "True"
      ]
     },
     "execution_count": 41,
     "metadata": {},
     "output_type": "execute_result"
    }
   ],
   "source": [
    "True and not True or True"
   ]
  },
  {
   "cell_type": "markdown",
   "id": "07b5bc8e",
   "metadata": {},
   "source": [
    "# identity operator, is or is not"
   ]
  },
  {
   "cell_type": "code",
   "execution_count": 42,
   "id": "ee7fc674",
   "metadata": {},
   "outputs": [
    {
     "name": "stderr",
     "output_type": "stream",
     "text": [
      "<>:1: SyntaxWarning: \"is\" with a literal. Did you mean \"==\"?\n",
      "<>:1: SyntaxWarning: \"is\" with a literal. Did you mean \"==\"?\n",
      "C:\\Users\\power\\AppData\\Local\\Temp\\ipykernel_7964\\2929037671.py:1: SyntaxWarning: \"is\" with a literal. Did you mean \"==\"?\n",
      "  5 is 6\n"
     ]
    },
    {
     "data": {
      "text/plain": [
       "False"
      ]
     },
     "execution_count": 42,
     "metadata": {},
     "output_type": "execute_result"
    }
   ],
   "source": [
    "5 is 6"
   ]
  },
  {
   "cell_type": "code",
   "execution_count": 43,
   "id": "ef113802",
   "metadata": {},
   "outputs": [
    {
     "data": {
      "text/plain": [
       "False"
      ]
     },
     "execution_count": 43,
     "metadata": {},
     "output_type": "execute_result"
    }
   ],
   "source": [
    "5 == 6"
   ]
  },
  {
   "cell_type": "code",
   "execution_count": 44,
   "id": "c0cec55a",
   "metadata": {},
   "outputs": [
    {
     "name": "stderr",
     "output_type": "stream",
     "text": [
      "<>:1: SyntaxWarning: \"is not\" with a literal. Did you mean \"!=\"?\n",
      "<>:1: SyntaxWarning: \"is not\" with a literal. Did you mean \"!=\"?\n",
      "C:\\Users\\power\\AppData\\Local\\Temp\\ipykernel_7964\\2227521640.py:1: SyntaxWarning: \"is not\" with a literal. Did you mean \"!=\"?\n",
      "  5 is not 6\n"
     ]
    },
    {
     "data": {
      "text/plain": [
       "True"
      ]
     },
     "execution_count": 44,
     "metadata": {},
     "output_type": "execute_result"
    }
   ],
   "source": [
    "5 is not 6"
   ]
  },
  {
   "cell_type": "code",
   "execution_count": 45,
   "id": "6549d696",
   "metadata": {},
   "outputs": [
    {
     "data": {
      "text/plain": [
       "True"
      ]
     },
     "execution_count": 45,
     "metadata": {},
     "output_type": "execute_result"
    }
   ],
   "source": [
    "5 != 6"
   ]
  },
  {
   "cell_type": "markdown",
   "id": "b1744b09",
   "metadata": {},
   "source": [
    "# indentation"
   ]
  },
  {
   "cell_type": "code",
   "execution_count": 46,
   "id": "cbcd2c2d",
   "metadata": {},
   "outputs": [],
   "source": [
    "def sum_2(x):\n",
    "    return x + 2"
   ]
  },
  {
   "cell_type": "code",
   "execution_count": 47,
   "id": "a583710e",
   "metadata": {},
   "outputs": [
    {
     "data": {
      "text/plain": [
       "5"
      ]
     },
     "execution_count": 47,
     "metadata": {},
     "output_type": "execute_result"
    }
   ],
   "source": [
    "sum_2(3)"
   ]
  },
  {
   "cell_type": "code",
   "execution_count": 48,
   "id": "8fd3340a",
   "metadata": {},
   "outputs": [
    {
     "data": {
      "text/plain": [
       "210"
      ]
     },
     "execution_count": 48,
     "metadata": {},
     "output_type": "execute_result"
    }
   ],
   "source": [
    "sum_2(208)"
   ]
  },
  {
   "cell_type": "markdown",
   "id": "624e0ba9",
   "metadata": {},
   "source": [
    "# Conditionals in Python"
   ]
  },
  {
   "cell_type": "markdown",
   "id": "395079ef",
   "metadata": {},
   "source": [
    "### as its name, Conditionals checks if a statement holds or not"
   ]
  },
  {
   "cell_type": "code",
   "execution_count": 49,
   "id": "1f18c4a5",
   "metadata": {},
   "outputs": [
    {
     "name": "stdout",
     "output_type": "stream",
     "text": [
      "ok\n"
     ]
    }
   ],
   "source": [
    "if 5 == 15/3:\n",
    "    print('ok')"
   ]
  },
  {
   "cell_type": "code",
   "execution_count": 50,
   "id": "2e92e623",
   "metadata": {},
   "outputs": [],
   "source": [
    "if 5 == 18/3:\n",
    "    print('not ok')"
   ]
  },
  {
   "cell_type": "code",
   "execution_count": 51,
   "id": "d1bc8fbb",
   "metadata": {},
   "outputs": [
    {
     "name": "stdout",
     "output_type": "stream",
     "text": [
      "no\n"
     ]
    }
   ],
   "source": [
    "x = 1\n",
    "\n",
    "if x > 3:\n",
    "    print('yes')\n",
    "if x < 3:\n",
    "    print('no')"
   ]
  },
  {
   "cell_type": "markdown",
   "id": "88ee5958",
   "metadata": {},
   "source": [
    "### ELSE statement"
   ]
  },
  {
   "cell_type": "code",
   "execution_count": 52,
   "id": "dd8144a1",
   "metadata": {},
   "outputs": [
    {
     "name": "stdout",
     "output_type": "stream",
     "text": [
      "no\n"
     ]
    }
   ],
   "source": [
    "# we can write the above codes by a shorter syntax:\n",
    "x = 1\n",
    "\n",
    "if x >= 3:\n",
    "    print('yes')\n",
    "else:\n",
    "    print('no')"
   ]
  },
  {
   "cell_type": "markdown",
   "id": "ab36d2f4",
   "metadata": {},
   "source": [
    "### ELIF in conditionals"
   ]
  },
  {
   "cell_type": "code",
   "execution_count": 55,
   "id": "bf3853ce",
   "metadata": {},
   "outputs": [],
   "source": [
    "def compare_5(y):\n",
    "    if y > 5:\n",
    "        return 'greater than 5'\n",
    "    if y < 5:\n",
    "        return 'smaller than 5'\n",
    "    else:\n",
    "        return 'even 5'"
   ]
  },
  {
   "cell_type": "code",
   "execution_count": 56,
   "id": "cda99ded",
   "metadata": {},
   "outputs": [
    {
     "data": {
      "text/plain": [
       "'even 5'"
      ]
     },
     "execution_count": 56,
     "metadata": {},
     "output_type": "execute_result"
    }
   ],
   "source": [
    "compare_5(5)"
   ]
  },
  {
   "cell_type": "code",
   "execution_count": 57,
   "id": "b58fc96d",
   "metadata": {},
   "outputs": [],
   "source": [
    "def compare_5(y):\n",
    "    if y > 5:\n",
    "        return 'greater than 5'\n",
    "    elif y < 5:\n",
    "        return 'smaller than 5'\n",
    "    else:\n",
    "        return 'even 5'"
   ]
  },
  {
   "cell_type": "code",
   "execution_count": 58,
   "id": "6ace6661",
   "metadata": {},
   "outputs": [
    {
     "data": {
      "text/plain": [
       "'greater than 5'"
      ]
     },
     "execution_count": 58,
     "metadata": {},
     "output_type": "execute_result"
    }
   ],
   "source": [
    "compare_5(7)"
   ]
  },
  {
   "cell_type": "code",
   "execution_count": 59,
   "id": "8551df0e",
   "metadata": {},
   "outputs": [],
   "source": [
    "def compare_5(y):\n",
    "    if y > 5:\n",
    "        return 'greater than 5'\n",
    "    elif y < 0:\n",
    "        return 'negative'\n",
    "    elif y < 5:\n",
    "        return 'smaller than 5'\n",
    "    else:\n",
    "        return 'even 5'"
   ]
  },
  {
   "cell_type": "code",
   "execution_count": 60,
   "id": "c0261e40",
   "metadata": {},
   "outputs": [
    {
     "name": "stdout",
     "output_type": "stream",
     "text": [
      "negative\n"
     ]
    }
   ],
   "source": [
    "print(compare_5(-3))"
   ]
  },
  {
   "cell_type": "code",
   "execution_count": 62,
   "id": "86c5a34f",
   "metadata": {},
   "outputs": [
    {
     "name": "stdout",
     "output_type": "stream",
     "text": [
      "smaller than 5\n"
     ]
    }
   ],
   "source": [
    "print(compare_5(4))"
   ]
  },
  {
   "cell_type": "code",
   "execution_count": 63,
   "id": "82d36cea",
   "metadata": {},
   "outputs": [],
   "source": [
    "def compare_5(y):\n",
    "    if y > 5:\n",
    "        return 'greater than 5'\n",
    "    elif y < 5:\n",
    "        return 'smaller than 5'\n",
    "    elif y < 0:\n",
    "        return 'negative'\n",
    "    else:\n",
    "        return 'even 5'"
   ]
  },
  {
   "cell_type": "code",
   "execution_count": 64,
   "id": "6dd38134",
   "metadata": {},
   "outputs": [
    {
     "name": "stdout",
     "output_type": "stream",
     "text": [
      "smaller than 5\n"
     ]
    }
   ],
   "source": [
    "print(compare_5(-3))"
   ]
  },
  {
   "cell_type": "code",
   "execution_count": 65,
   "id": "6befdee6",
   "metadata": {},
   "outputs": [],
   "source": [
    "def compare_5(y):\n",
    "    if y > 5:\n",
    "        return 'greater than 5'\n",
    "    elif 0 < y < 5:\n",
    "        return 'smaller than 5'\n",
    "    elif y < 0:\n",
    "        return 'negative'\n",
    "    else:\n",
    "        return 'even 5'"
   ]
  },
  {
   "cell_type": "code",
   "execution_count": 66,
   "id": "728d6574",
   "metadata": {},
   "outputs": [
    {
     "name": "stdout",
     "output_type": "stream",
     "text": [
      "negative\n"
     ]
    }
   ],
   "source": [
    "print(compare_5(-3))"
   ]
  },
  {
   "cell_type": "code",
   "execution_count": 67,
   "id": "a9ae71a2",
   "metadata": {},
   "outputs": [
    {
     "name": "stdout",
     "output_type": "stream",
     "text": [
      "smaller than 5\n"
     ]
    }
   ],
   "source": [
    "print(compare_5(4))"
   ]
  },
  {
   "cell_type": "code",
   "execution_count": 68,
   "id": "04a04833",
   "metadata": {},
   "outputs": [],
   "source": [
    "# the order of statements are very important in conditionals"
   ]
  },
  {
   "cell_type": "markdown",
   "id": "05ee6ae9",
   "metadata": {},
   "source": [
    "# Functions in Python"
   ]
  },
  {
   "cell_type": "code",
   "execution_count": 1,
   "id": "1e5dc1a9",
   "metadata": {},
   "outputs": [],
   "source": [
    "# \"def\" is a keyword in defining a function in python \n",
    "\n",
    "def first_function():\n",
    "    print('Hola amigos')\n",
    "    \n",
    "# def function_name(parameters):\n",
    "#     function body"
   ]
  },
  {
   "cell_type": "code",
   "execution_count": 2,
   "id": "4581af67",
   "metadata": {},
   "outputs": [
    {
     "name": "stdout",
     "output_type": "stream",
     "text": [
      "Hola amigos\n"
     ]
    }
   ],
   "source": [
    "first_function()"
   ]
  },
  {
   "cell_type": "code",
   "execution_count": 3,
   "id": "7ace16d3",
   "metadata": {},
   "outputs": [],
   "source": [
    "# \"return\" returns a value from the function\n",
    "# \"return\" can be used only once in a function\n",
    "# note when \"return\" and \"print\" are used\n",
    "\n",
    "def plus_two(a):\n",
    "    return a + 2"
   ]
  },
  {
   "cell_type": "code",
   "execution_count": 4,
   "id": "a4c4b360",
   "metadata": {},
   "outputs": [
    {
     "data": {
      "text/plain": [
       "5"
      ]
     },
     "execution_count": 4,
     "metadata": {},
     "output_type": "execute_result"
    }
   ],
   "source": [
    "# plus_two(arguments). Note that when we say \"parameters\" and \"arguments\"\n",
    "plus_two(3)"
   ]
  },
  {
   "cell_type": "code",
   "execution_count": 5,
   "id": "2c0c459f",
   "metadata": {},
   "outputs": [],
   "source": [
    "# name the functions with appropriate names. This indicate the GOOD STYLE of your codes"
   ]
  },
  {
   "cell_type": "code",
   "execution_count": 6,
   "id": "54913ad4",
   "metadata": {},
   "outputs": [],
   "source": [
    "# we can use \"print\" and \"return\" simultaneously\n",
    "def plus_two(a):\n",
    "    print('Outcome is equal to:')\n",
    "    return a + 2"
   ]
  },
  {
   "cell_type": "code",
   "execution_count": 7,
   "id": "af3131a3",
   "metadata": {},
   "outputs": [
    {
     "name": "stdout",
     "output_type": "stream",
     "text": [
      "Outcome is equal to:\n"
     ]
    },
    {
     "data": {
      "text/plain": [
       "5"
      ]
     },
     "execution_count": 7,
     "metadata": {},
     "output_type": "execute_result"
    }
   ],
   "source": [
    "plus_two(3)"
   ]
  },
  {
   "cell_type": "code",
   "execution_count": 8,
   "id": "a80e5243",
   "metadata": {},
   "outputs": [],
   "source": [
    "# Function in functions\n",
    "\n",
    "def wage(w_hour):\n",
    "    return w_hour * 25\n",
    "\n",
    "def with_bonus(w_hour):\n",
    "    return wage(w_hour) + 25"
   ]
  },
  {
   "cell_type": "code",
   "execution_count": 9,
   "id": "14c9d810",
   "metadata": {},
   "outputs": [
    {
     "data": {
      "text/plain": [
       "(200, 225)"
      ]
     },
     "execution_count": 9,
     "metadata": {},
     "output_type": "execute_result"
    }
   ],
   "source": [
    "wage(8), with_bonus(8)"
   ]
  },
  {
   "cell_type": "code",
   "execution_count": 10,
   "id": "5f7a43d8",
   "metadata": {},
   "outputs": [],
   "source": [
    "def with_bonus2(w_hour):\n",
    "    return wage(w_hour) + with_bonus(w_hour) + 100"
   ]
  },
  {
   "cell_type": "code",
   "execution_count": 12,
   "id": "d3ed66d2",
   "metadata": {},
   "outputs": [
    {
     "data": {
      "text/plain": [
       "525"
      ]
     },
     "execution_count": 12,
     "metadata": {},
     "output_type": "execute_result"
    }
   ],
   "source": [
    "with_bonus2(8)"
   ]
  },
  {
   "cell_type": "code",
   "execution_count": 13,
   "id": "ebbeb744",
   "metadata": {},
   "outputs": [],
   "source": [
    "# Using conditionals in functions\n",
    "def add_ten(m):\n",
    "    if m >= 100:\n",
    "        m = m + 10\n",
    "        return m\n",
    "    else:\n",
    "        print('Save more')"
   ]
  },
  {
   "cell_type": "code",
   "execution_count": 14,
   "id": "33de46ed",
   "metadata": {},
   "outputs": [
    {
     "data": {
      "text/plain": [
       "115"
      ]
     },
     "execution_count": 14,
     "metadata": {},
     "output_type": "execute_result"
    }
   ],
   "source": [
    "add_ten(105)"
   ]
  },
  {
   "cell_type": "code",
   "execution_count": 15,
   "id": "4f83b274",
   "metadata": {},
   "outputs": [
    {
     "name": "stdout",
     "output_type": "stream",
     "text": [
      "Save more\n"
     ]
    }
   ],
   "source": [
    "add_ten(99.99999)"
   ]
  },
  {
   "cell_type": "code",
   "execution_count": 16,
   "id": "38abc224",
   "metadata": {},
   "outputs": [],
   "source": [
    "# an example with more than one parameter \n",
    "def subtract_bc(a, b, c):\n",
    "    result = a - b * c\n",
    "    print('parameter a equals to:', a)\n",
    "    print('parameter b equals to:', b)\n",
    "    print('parameter c equals to:', c)\n",
    "    return result"
   ]
  },
  {
   "cell_type": "code",
   "execution_count": 17,
   "id": "08d58afc",
   "metadata": {},
   "outputs": [
    {
     "name": "stdout",
     "output_type": "stream",
     "text": [
      "parameter a equals to: 1\n",
      "parameter b equals to: 2\n",
      "parameter c equals to: 3\n"
     ]
    },
    {
     "data": {
      "text/plain": [
       "-5"
      ]
     },
     "execution_count": 17,
     "metadata": {},
     "output_type": "execute_result"
    }
   ],
   "source": [
    "subtract_bc(1, 2, 3)"
   ]
  },
  {
   "cell_type": "code",
   "execution_count": 18,
   "id": "a03a5865",
   "metadata": {},
   "outputs": [
    {
     "name": "stdout",
     "output_type": "stream",
     "text": [
      "parameter a equals to: 3\n",
      "parameter b equals to: 2\n",
      "parameter c equals to: 1\n"
     ]
    },
    {
     "data": {
      "text/plain": [
       "1"
      ]
     },
     "execution_count": 18,
     "metadata": {},
     "output_type": "execute_result"
    }
   ],
   "source": [
    "subtract_bc(3, 2, 1)"
   ]
  },
  {
   "cell_type": "code",
   "execution_count": 19,
   "id": "0ab152ad",
   "metadata": {},
   "outputs": [
    {
     "name": "stdout",
     "output_type": "stream",
     "text": [
      "parameter a equals to: 1\n",
      "parameter b equals to: 2\n",
      "parameter c equals to: 3\n"
     ]
    },
    {
     "data": {
      "text/plain": [
       "-5"
      ]
     },
     "execution_count": 19,
     "metadata": {},
     "output_type": "execute_result"
    }
   ],
   "source": [
    "subtract_bc(b = 2, c = 3, a = 1)"
   ]
  },
  {
   "cell_type": "code",
   "execution_count": 20,
   "id": "7906d8ce",
   "metadata": {},
   "outputs": [],
   "source": [
    "# built-in functions install automatically with python and you don't need to define them\n",
    "# built-in functions can be applied directly \n",
    "# example of built-in functions \n",
    "# type(), int(), float(), str(), ...\n",
    "# in the next cell you can see same more built-in functions"
   ]
  },
  {
   "cell_type": "code",
   "execution_count": 21,
   "id": "0f0be7fb",
   "metadata": {},
   "outputs": [
    {
     "data": {
      "text/plain": [
       "(30, 10, 60)"
      ]
     },
     "execution_count": 21,
     "metadata": {},
     "output_type": "execute_result"
    }
   ],
   "source": [
    "max(10, 20, 30), min(10, 20, 30), sum([10, 20, 30])"
   ]
  },
  {
   "cell_type": "code",
   "execution_count": 23,
   "id": "7792e4eb",
   "metadata": {},
   "outputs": [
    {
     "data": {
      "text/plain": [
       "2"
      ]
     },
     "execution_count": 23,
     "metadata": {},
     "output_type": "execute_result"
    }
   ],
   "source": [
    "z = -2\n",
    "abs(z)\n",
    "# abs comes from absolute value"
   ]
  },
  {
   "cell_type": "code",
   "execution_count": 24,
   "id": "940f63fc",
   "metadata": {},
   "outputs": [
    {
     "data": {
      "text/plain": [
       "(3.445, 3)"
      ]
     },
     "execution_count": 24,
     "metadata": {},
     "output_type": "execute_result"
    }
   ],
   "source": [
    "round(3.444999, 3), round(3.44)\n",
    "# if round does not have a second argument, its equal to zero"
   ]
  },
  {
   "cell_type": "code",
   "execution_count": 25,
   "id": "a8ff88b0",
   "metadata": {},
   "outputs": [
    {
     "data": {
      "text/plain": [
       "(8, 8)"
      ]
     },
     "execution_count": 25,
     "metadata": {},
     "output_type": "execute_result"
    }
   ],
   "source": [
    "pow(2, 3), 2 ** 3"
   ]
  },
  {
   "cell_type": "code",
   "execution_count": 26,
   "id": "e5f36a5b",
   "metadata": {},
   "outputs": [
    {
     "data": {
      "text/plain": [
       "11"
      ]
     },
     "execution_count": 26,
     "metadata": {},
     "output_type": "execute_result"
    }
   ],
   "source": [
    "len('Mathematics')"
   ]
  },
  {
   "cell_type": "markdown",
   "id": "eec4334c",
   "metadata": {},
   "source": [
    "# Lists in Python"
   ]
  },
  {
   "cell_type": "code",
   "execution_count": 1,
   "id": "dd593a00",
   "metadata": {},
   "outputs": [
    {
     "data": {
      "text/plain": [
       "['Mozhgan', 'Maryam', 'Saeid', 'Reza', 'Hassan']"
      ]
     },
     "execution_count": 1,
     "metadata": {},
     "output_type": "execute_result"
    }
   ],
   "source": [
    "Family1 = ['Mozhgan', 'Maryam', 'Saeid', 'Reza', 'Hassan']\n",
    "Family2 = ['John', 'Josh', 'Mary', 'David', 'Tara']\n",
    "Family1"
   ]
  },
  {
   "cell_type": "code",
   "execution_count": 2,
   "id": "88cddc86",
   "metadata": {},
   "outputs": [
    {
     "data": {
      "text/plain": [
       "'Josh'"
      ]
     },
     "execution_count": 2,
     "metadata": {},
     "output_type": "execute_result"
    }
   ],
   "source": [
    "Family2[1]"
   ]
  },
  {
   "cell_type": "code",
   "execution_count": 3,
   "id": "a8ff7c09",
   "metadata": {},
   "outputs": [
    {
     "data": {
      "text/plain": [
       "'Tara'"
      ]
     },
     "execution_count": 3,
     "metadata": {},
     "output_type": "execute_result"
    }
   ],
   "source": [
    "Family2[4]"
   ]
  },
  {
   "cell_type": "code",
   "execution_count": 4,
   "id": "b2c9943e",
   "metadata": {},
   "outputs": [
    {
     "data": {
      "text/plain": [
       "('Tara', 'David', 'Mary', 'Josh', 'John')"
      ]
     },
     "execution_count": 4,
     "metadata": {},
     "output_type": "execute_result"
    }
   ],
   "source": [
    "Family2[-1], Family2[-2], Family2[-3], Family2[-4], Family2[-5]"
   ]
  },
  {
   "cell_type": "code",
   "execution_count": 5,
   "id": "d3c98e6b",
   "metadata": {},
   "outputs": [
    {
     "data": {
      "text/plain": [
       "['John', 'Mary', 'David', 'Tara']"
      ]
     },
     "execution_count": 5,
     "metadata": {},
     "output_type": "execute_result"
    }
   ],
   "source": [
    "# removing one item from a list\n",
    "del Family2[1]\n",
    "Family2"
   ]
  },
  {
   "cell_type": "code",
   "execution_count": 6,
   "id": "fa5ced30",
   "metadata": {},
   "outputs": [
    {
     "data": {
      "text/plain": [
       "['John', 'Sara', 'David', 'Tara']"
      ]
     },
     "execution_count": 6,
     "metadata": {},
     "output_type": "execute_result"
    }
   ],
   "source": [
    "# replacing in lists\n",
    "Family2[1] = 'Sara'\n",
    "Family2"
   ]
  },
  {
   "cell_type": "code",
   "execution_count": 7,
   "id": "3aac4dbf",
   "metadata": {},
   "outputs": [
    {
     "data": {
      "text/plain": [
       "['John', 'Sara', 'David', 'Tara', 'Barak']"
      ]
     },
     "execution_count": 7,
     "metadata": {},
     "output_type": "execute_result"
    }
   ],
   "source": [
    "# .append(add) method\n",
    "Family2.append('Barak')\n",
    "Family2"
   ]
  },
  {
   "cell_type": "code",
   "execution_count": 8,
   "id": "0ab3bfe7",
   "metadata": {},
   "outputs": [
    {
     "data": {
      "text/plain": [
       "['John', 'Sara', 'David', 'Tara', 'Barak', 'Donald', 'Hilari']"
      ]
     },
     "execution_count": 8,
     "metadata": {},
     "output_type": "execute_result"
    }
   ],
   "source": [
    "# with .extend method we can append a list\n",
    "Family2.extend(['Donald', 'Hilari'])\n",
    "Family2"
   ]
  },
  {
   "cell_type": "code",
   "execution_count": 9,
   "id": "c8245cf9",
   "metadata": {},
   "outputs": [
    {
     "name": "stdout",
     "output_type": "stream",
     "text": [
      "The first family member in family2 is Sara.\n"
     ]
    }
   ],
   "source": [
    "# note that we can only add 'string' values to each other\n",
    "print('The first family member in family2 is ' + Family2[1] + '.')"
   ]
  },
  {
   "cell_type": "code",
   "execution_count": 10,
   "id": "b0113b69",
   "metadata": {},
   "outputs": [
    {
     "data": {
      "text/plain": [
       "(5, 7)"
      ]
     },
     "execution_count": 10,
     "metadata": {},
     "output_type": "execute_result"
    }
   ],
   "source": [
    "# len() can give the length of a list to us\n",
    "len('Hello'), len(Family2)"
   ]
  },
  {
   "cell_type": "code",
   "execution_count": 11,
   "id": "1f474fc4",
   "metadata": {},
   "outputs": [
    {
     "data": {
      "text/plain": [
       "['Sara', 'David']"
      ]
     },
     "execution_count": 11,
     "metadata": {},
     "output_type": "execute_result"
    }
   ],
   "source": [
    "# list slicing\n",
    "Family2[1:3]"
   ]
  },
  {
   "cell_type": "code",
   "execution_count": 12,
   "id": "4e35d25c",
   "metadata": {},
   "outputs": [
    {
     "data": {
      "text/plain": [
       "['John', 'Sara', 'David']"
      ]
     },
     "execution_count": 12,
     "metadata": {},
     "output_type": "execute_result"
    }
   ],
   "source": [
    "Family2[:3]"
   ]
  },
  {
   "cell_type": "code",
   "execution_count": 13,
   "id": "d6a8fe04",
   "metadata": {},
   "outputs": [
    {
     "data": {
      "text/plain": [
       "(['Barak', 'Donald', 'Hilari'], ['Donald', 'Hilari'])"
      ]
     },
     "execution_count": 13,
     "metadata": {},
     "output_type": "execute_result"
    }
   ],
   "source": [
    "Family2[4:], Family2[-2:]"
   ]
  },
  {
   "cell_type": "code",
   "execution_count": 14,
   "id": "0f885370",
   "metadata": {},
   "outputs": [
    {
     "data": {
      "text/plain": [
       "4"
      ]
     },
     "execution_count": 14,
     "metadata": {},
     "output_type": "execute_result"
    }
   ],
   "source": [
    "Family2.index('Barak')"
   ]
  },
  {
   "cell_type": "code",
   "execution_count": 15,
   "id": "0b932072",
   "metadata": {},
   "outputs": [
    {
     "data": {
      "text/plain": [
       "[['John', 'Sara', 'David', 'Tara', 'Barak', 'Donald', 'Hilari'],\n",
       " ['Leila', 'Hans']]"
      ]
     },
     "execution_count": 15,
     "metadata": {},
     "output_type": "execute_result"
    }
   ],
   "source": [
    "# mixing two or more lists\n",
    "Family3 = ['Leila', 'Hans']\n",
    "Family = [Family2, Family3]\n",
    "Family"
   ]
  },
  {
   "cell_type": "code",
   "execution_count": 17,
   "id": "d3d514d0",
   "metadata": {},
   "outputs": [
    {
     "data": {
      "text/plain": [
       "['Barak', 'David', 'Donald', 'Hilari', 'John', 'Sara', 'Tara']"
      ]
     },
     "execution_count": 17,
     "metadata": {},
     "output_type": "execute_result"
    }
   ],
   "source": [
    "# sorting in lists\n",
    "Family2.sort()\n",
    "Family2"
   ]
  },
  {
   "cell_type": "code",
   "execution_count": 18,
   "id": "602d0be1",
   "metadata": {},
   "outputs": [
    {
     "data": {
      "text/plain": [
       "['Tara', 'Sara', 'John', 'Hilari', 'Donald', 'David', 'Barak']"
      ]
     },
     "execution_count": 18,
     "metadata": {},
     "output_type": "execute_result"
    }
   ],
   "source": [
    "Family2.sort(reverse=True)\n",
    "Family2"
   ]
  },
  {
   "cell_type": "markdown",
   "id": "7b1443fa",
   "metadata": {},
   "source": [
    "# Tuples in Python"
   ]
  },
  {
   "cell_type": "code",
   "execution_count": 20,
   "id": "0f6d8479",
   "metadata": {},
   "outputs": [
    {
     "data": {
      "text/plain": [
       "(1, 2, 3)"
      ]
     },
     "execution_count": 20,
     "metadata": {},
     "output_type": "execute_result"
    }
   ],
   "source": [
    "# Tuples are a type of data sequence\n",
    "# BUT unlike the lists, they are immutable (we can not change them)\n",
    "x = (1, 2, 3)\n",
    "y = 1, 2, 3\n",
    "x"
   ]
  },
  {
   "cell_type": "code",
   "execution_count": 21,
   "id": "d3306322",
   "metadata": {},
   "outputs": [
    {
     "data": {
      "text/plain": [
       "(1, 2, 3)"
      ]
     },
     "execution_count": 21,
     "metadata": {},
     "output_type": "execute_result"
    }
   ],
   "source": [
    "y"
   ]
  },
  {
   "cell_type": "code",
   "execution_count": 22,
   "id": "f7516764",
   "metadata": {},
   "outputs": [
    {
     "data": {
      "text/plain": [
       "1"
      ]
     },
     "execution_count": 22,
     "metadata": {},
     "output_type": "execute_result"
    }
   ],
   "source": [
    "y[0]"
   ]
  },
  {
   "cell_type": "code",
   "execution_count": 23,
   "id": "373a125b",
   "metadata": {},
   "outputs": [
    {
     "data": {
      "text/plain": [
       "2"
      ]
     },
     "execution_count": 23,
     "metadata": {},
     "output_type": "execute_result"
    }
   ],
   "source": [
    "y[1]"
   ]
  },
  {
   "cell_type": "code",
   "execution_count": 24,
   "id": "4e3d89d2",
   "metadata": {},
   "outputs": [
    {
     "data": {
      "text/plain": [
       "3"
      ]
     },
     "execution_count": 24,
     "metadata": {},
     "output_type": "execute_result"
    }
   ],
   "source": [
    "y[2]"
   ]
  },
  {
   "cell_type": "code",
   "execution_count": 25,
   "id": "a3c9dde2",
   "metadata": {},
   "outputs": [],
   "source": [
    "z = (x, y)"
   ]
  },
  {
   "cell_type": "code",
   "execution_count": 26,
   "id": "c67f5a9d",
   "metadata": {},
   "outputs": [
    {
     "data": {
      "text/plain": [
       "((1, 2, 3), (1, 2, 3))"
      ]
     },
     "execution_count": 26,
     "metadata": {},
     "output_type": "execute_result"
    }
   ],
   "source": [
    "z"
   ]
  },
  {
   "cell_type": "code",
   "execution_count": 27,
   "id": "cf695778",
   "metadata": {},
   "outputs": [
    {
     "name": "stdout",
     "output_type": "stream",
     "text": [
      "30\n"
     ]
    }
   ],
   "source": [
    "# .split method for tuples\n",
    "(age, year) = '30, 2024'.split(',')\n",
    "print(age)"
   ]
  },
  {
   "cell_type": "markdown",
   "id": "e0ccb38f",
   "metadata": {},
   "source": [
    "# Dictionaries in Python"
   ]
  },
  {
   "cell_type": "code",
   "execution_count": 38,
   "id": "21b6da7b",
   "metadata": {},
   "outputs": [
    {
     "data": {
      "text/plain": [
       "{'k1': 'Amin', 'k2': 'Majid', 'k3': 'Mohammad'}"
      ]
     },
     "execution_count": 38,
     "metadata": {},
     "output_type": "execute_result"
    }
   ],
   "source": [
    "# in each dictionary we have keys and respective values\n",
    "Friends = {'k1' : 'Amin', 'k2' : 'Majid', 'k3' : 'Mohammad'}\n",
    "Friends\n",
    "\n",
    "# 'k1' is a key and 'Amin' is its respective vakue"
   ]
  },
  {
   "cell_type": "code",
   "execution_count": 39,
   "id": "93e1915c",
   "metadata": {},
   "outputs": [
    {
     "data": {
      "text/plain": [
       "'Amin'"
      ]
     },
     "execution_count": 39,
     "metadata": {},
     "output_type": "execute_result"
    }
   ],
   "source": [
    "Friends['k1']"
   ]
  },
  {
   "cell_type": "code",
   "execution_count": 40,
   "id": "3c68512b",
   "metadata": {},
   "outputs": [
    {
     "data": {
      "text/plain": [
       "{'k1': 'Amin', 'k2': 'Majid', 'k3': 'Mohammad', 'k4': 'Sara'}"
      ]
     },
     "execution_count": 40,
     "metadata": {},
     "output_type": "execute_result"
    }
   ],
   "source": [
    "# adding another key to our dictionary\n",
    "Friends['k4'] = 'Sara'\n",
    "Friends"
   ]
  },
  {
   "cell_type": "code",
   "execution_count": 41,
   "id": "5aca5561",
   "metadata": {},
   "outputs": [
    {
     "data": {
      "text/plain": [
       "{'k1': 'Amin', 'k2': 'Mahsa', 'k3': 'Mohammad', 'k4': 'Sara'}"
      ]
     },
     "execution_count": 41,
     "metadata": {},
     "output_type": "execute_result"
    }
   ],
   "source": [
    "# replacing one of our keys\n",
    "Friends['k2'] = 'Mahsa'\n",
    "Friends"
   ]
  },
  {
   "cell_type": "code",
   "execution_count": 42,
   "id": "5e5e0543",
   "metadata": {},
   "outputs": [
    {
     "data": {
      "text/plain": [
       "['Amin', 'Sara', 'Mahsa']"
      ]
     },
     "execution_count": 42,
     "metadata": {},
     "output_type": "execute_result"
    }
   ],
   "source": [
    "# values in the form of lists\n",
    "\n",
    "Univ = {'dep1' : 'Hadi', 'dep2' : ['Amin', 'Sara', 'Mahsa']}\n",
    "Univ['dep2']"
   ]
  },
  {
   "cell_type": "code",
   "execution_count": 43,
   "id": "3406f466",
   "metadata": {},
   "outputs": [
    {
     "data": {
      "text/plain": [
       "{'A': 'Amin', 'B': 'Behnam', 'C': 'Ahmad'}"
      ]
     },
     "execution_count": 43,
     "metadata": {},
     "output_type": "execute_result"
    }
   ],
   "source": [
    "# making dictionaries step by step\n",
    "\n",
    "Team = {}\n",
    "Team['A'] = 'Amin'\n",
    "Team['B'] = 'Behnam'\n",
    "Team['C'] = 'Ahmad'\n",
    "Team"
   ]
  },
  {
   "cell_type": "code",
   "execution_count": 44,
   "id": "1e7df018",
   "metadata": {},
   "outputs": [
    {
     "data": {
      "text/plain": [
       "'Behnam'"
      ]
     },
     "execution_count": 44,
     "metadata": {},
     "output_type": "execute_result"
    }
   ],
   "source": [
    "Team['B']"
   ]
  },
  {
   "cell_type": "code",
   "execution_count": 45,
   "id": "5060d402",
   "metadata": {},
   "outputs": [
    {
     "data": {
      "text/plain": [
       "'Behnam'"
      ]
     },
     "execution_count": 45,
     "metadata": {},
     "output_type": "execute_result"
    }
   ],
   "source": [
    "Team.get('B')"
   ]
  },
  {
   "cell_type": "code",
   "execution_count": 46,
   "id": "13add792",
   "metadata": {},
   "outputs": [
    {
     "name": "stdout",
     "output_type": "stream",
     "text": [
      "None\n"
     ]
    }
   ],
   "source": [
    "# .get method has some benefits\n",
    "print(Team.get('D'))"
   ]
  },
  {
   "cell_type": "markdown",
   "id": "a8f552ac",
   "metadata": {},
   "source": [
    "# Iterations, for and while"
   ]
  },
  {
   "cell_type": "code",
   "execution_count": 1,
   "id": "96b47388",
   "metadata": {},
   "outputs": [],
   "source": [
    "# Iteration is the ability to execute a certain code repeatedly\n",
    "even_number = [2, 4, 6, 8, 10, 12, 14, 16]"
   ]
  },
  {
   "cell_type": "code",
   "execution_count": 2,
   "id": "97d5b248",
   "metadata": {},
   "outputs": [
    {
     "name": "stdout",
     "output_type": "stream",
     "text": [
      "2\n",
      "4\n",
      "6\n",
      "8\n",
      "10\n",
      "12\n",
      "14\n",
      "16\n"
     ]
    }
   ],
   "source": [
    "for x in even_number:\n",
    "    print(x)"
   ]
  },
  {
   "cell_type": "code",
   "execution_count": 3,
   "id": "17abd537",
   "metadata": {},
   "outputs": [
    {
     "name": "stdout",
     "output_type": "stream",
     "text": [
      "2 4 6 8 10 12 14 16 "
     ]
    }
   ],
   "source": [
    "for x in even_number:\n",
    "    print(x, end = ' ')"
   ]
  },
  {
   "cell_type": "code",
   "execution_count": 4,
   "id": "8926fe17",
   "metadata": {},
   "outputs": [
    {
     "name": "stdout",
     "output_type": "stream",
     "text": [
      "0 2 4 6 8 10 12 14 16 18 20 22 24 26 28 30 "
     ]
    }
   ],
   "source": [
    "x = 0\n",
    "while x <= 30:\n",
    "    print(x, end = ' ')\n",
    "    x = x + 2\n",
    "    \n",
    "# the last line is called 'incrementing (adding)'\n",
    "# we can use of this syntax 'x += 2'\n",
    "# Be very careful when you're writting loop codes. Because bad codes can CRASH your device."
   ]
  },
  {
   "cell_type": "code",
   "execution_count": 5,
   "id": "e3980e4b",
   "metadata": {},
   "outputs": [
    {
     "data": {
      "text/plain": [
       "range(1, 10)"
      ]
     },
     "execution_count": 5,
     "metadata": {},
     "output_type": "execute_result"
    }
   ],
   "source": [
    "# creating lists in Python with range() function\n",
    "# range(start, stop, step) creates a sequence of integers\n",
    "# stop > start > step. range(0 = by default, ?, 1 = by default)\n",
    "range(1, 10)"
   ]
  },
  {
   "cell_type": "code",
   "execution_count": 6,
   "id": "adac0d01",
   "metadata": {},
   "outputs": [
    {
     "data": {
      "text/plain": [
       "[1, 2, 3, 4, 5, 6, 7, 8, 9]"
      ]
     },
     "execution_count": 6,
     "metadata": {},
     "output_type": "execute_result"
    }
   ],
   "source": [
    "list(range(1, 10))"
   ]
  },
  {
   "cell_type": "code",
   "execution_count": 7,
   "id": "5d123d5d",
   "metadata": {},
   "outputs": [
    {
     "data": {
      "text/plain": [
       "[3, 4, 5, 6]"
      ]
     },
     "execution_count": 7,
     "metadata": {},
     "output_type": "execute_result"
    }
   ],
   "source": [
    "list(range(3, 7))"
   ]
  },
  {
   "cell_type": "code",
   "execution_count": 8,
   "id": "04bf1c32",
   "metadata": {},
   "outputs": [
    {
     "data": {
      "text/plain": [
       "[1, 3, 5, 7, 9, 11, 13, 15, 17]"
      ]
     },
     "execution_count": 8,
     "metadata": {},
     "output_type": "execute_result"
    }
   ],
   "source": [
    "list(range(1, 19, 2))"
   ]
  },
  {
   "cell_type": "code",
   "execution_count": 9,
   "id": "f20f5c47",
   "metadata": {},
   "outputs": [],
   "source": [
    "# note that 'float' numbers cannot be used as a 'step'"
   ]
  },
  {
   "cell_type": "code",
   "execution_count": 11,
   "id": "f1dee5c1",
   "metadata": {},
   "outputs": [
    {
     "name": "stdout",
     "output_type": "stream",
     "text": [
      "0 1 2 3 4 5 6 7 8 9 "
     ]
    }
   ],
   "source": [
    "# use of range() in for loops\n",
    "\n",
    "for x in range(10):\n",
    "    print(x, end = ' ')"
   ]
  },
  {
   "cell_type": "code",
   "execution_count": 12,
   "id": "02ef6d0d",
   "metadata": {},
   "outputs": [
    {
     "name": "stdout",
     "output_type": "stream",
     "text": [
      "Even Odd Even Odd Even Odd Even Odd Even Odd Even Odd Even Odd Even Odd Even Odd Even Odd "
     ]
    }
   ],
   "source": [
    "# mixing conditionals and for loops\n",
    "\n",
    "for x in range(20):\n",
    "    if x % 2 == 0:\n",
    "        print('Even', end = ' ')\n",
    "    else:\n",
    "        print('Odd', end = ' ')"
   ]
  },
  {
   "cell_type": "code",
   "execution_count": 13,
   "id": "8244a9d5",
   "metadata": {},
   "outputs": [
    {
     "name": "stdout",
     "output_type": "stream",
     "text": [
      "0 1 2 "
     ]
    }
   ],
   "source": [
    "# The following two loops are almost identical, but the second one is more professional\n",
    "x = [0, 1, 2]\n",
    "for item in x: \n",
    "    print(item, end = ' ')"
   ]
  },
  {
   "cell_type": "code",
   "execution_count": 14,
   "id": "a4079ad4",
   "metadata": {},
   "outputs": [
    {
     "name": "stdout",
     "output_type": "stream",
     "text": [
      "0 1 2 "
     ]
    }
   ],
   "source": [
    "for item in range(len(x)):\n",
    "    print(x[item], end = ' ')"
   ]
  },
  {
   "cell_type": "code",
   "execution_count": 17,
   "id": "b10ea236",
   "metadata": {},
   "outputs": [],
   "source": [
    "# loops in functions\n",
    "\n",
    "def count_function(numbers):\n",
    "    total = 0 # total here is called a 'rolling sum'\n",
    "    for x in range(len(numbers)):\n",
    "        if numbers[x] < 20:\n",
    "            total += 1\n",
    "    return total\n",
    "\n",
    "# due to the third line we understand that numbers should be a list. So, inputs of this function are sequences\n",
    "# dictionaries are not acceptable as an input for this function"
   ]
  },
  {
   "cell_type": "code",
   "execution_count": 18,
   "id": "0b4f07d8",
   "metadata": {},
   "outputs": [
    {
     "data": {
      "text/plain": [
       "5"
      ]
     },
     "execution_count": 18,
     "metadata": {},
     "output_type": "execute_result"
    }
   ],
   "source": [
    "list1 = [0, 1 , 3, 19, 56, 23, 20, 4]\n",
    "count_function(list1)"
   ]
  },
  {
   "cell_type": "code",
   "execution_count": 19,
   "id": "c819879e",
   "metadata": {},
   "outputs": [
    {
     "data": {
      "text/plain": [
       "10"
      ]
     },
     "execution_count": 19,
     "metadata": {},
     "output_type": "execute_result"
    }
   ],
   "source": [
    "count_function(range(10))"
   ]
  },
  {
   "cell_type": "code",
   "execution_count": 20,
   "id": "3fe19a65",
   "metadata": {},
   "outputs": [
    {
     "data": {
      "text/plain": [
       "3"
      ]
     },
     "execution_count": 20,
     "metadata": {},
     "output_type": "execute_result"
    }
   ],
   "source": [
    "count_function([1, 2, 3])"
   ]
  },
  {
   "cell_type": "code",
   "execution_count": 22,
   "id": "9247426d",
   "metadata": {},
   "outputs": [],
   "source": [
    "# In Python 3, range() returns an immutable sequence type, \n",
    "# you need list(range(0, 2)) to get a list.\n",
    "# Basically, the difference is that range(0, 2) is a generator function and\n",
    "# list(range(0, 2)) is an actual list.\n",
    "# when you need the entire list of data in your code, use the list method."
   ]
  },
  {
   "cell_type": "code",
   "execution_count": 31,
   "id": "3df74355",
   "metadata": {},
   "outputs": [
    {
     "name": "stdout",
     "output_type": "stream",
     "text": [
      "59\n"
     ]
    }
   ],
   "source": [
    "# iterate over dictionaries\n",
    "# a situation for a customer in a market\n",
    "\n",
    "Prices = {'Spaghetti' : 4, 'Lasagna' : 6, 'Hamburger' : 7}\n",
    "Quantity = {'Spaghetti' : 3, 'Lasagna' : 2, 'Hamburger' : 5}\n",
    "\n",
    "money_spend = 0\n",
    "\n",
    "for i in Prices:\n",
    "    money_spend = money_spend + (Prices[i] * Quantity[i])\n",
    "\n",
    "print(money_spend)"
   ]
  },
  {
   "cell_type": "markdown",
   "id": "99b54832",
   "metadata": {},
   "source": [
    "# OOP, modules and packages"
   ]
  },
  {
   "cell_type": "code",
   "execution_count": 32,
   "id": "c86f87dd",
   "metadata": {},
   "outputs": [],
   "source": [
    "# OOP\n",
    "# what is an object in Python?\n",
    "# every value is a (logical) object. For instance, lists, floats, integers, ... are all object\n",
    "# object = data + manipulation operation\n",
    "\n",
    "# class\n",
    "# each object belong to some class defining the rules for creating that object\n",
    "# and we can attach a certain number of attributes to it"
   ]
  },
  {
   "cell_type": "code",
   "execution_count": 33,
   "id": "7ee3a9d4",
   "metadata": {},
   "outputs": [],
   "source": [
    "# 'Bike-Makers' Class\n",
    "# Method: .turn_left(), .turn_right(), .slow_down(), .accelerate()\n",
    "# Attributes: color, size, type"
   ]
  },
  {
   "cell_type": "code",
   "execution_count": 34,
   "id": "02d1569c",
   "metadata": {},
   "outputs": [],
   "source": [
    "# 'List' Class\n",
    "# Object (Instance): [15.9, 12.4, 64.0]\n",
    "# Method: .extend(), .index()\n",
    "# Attributes (Properties): type of data: floats"
   ]
  },
  {
   "cell_type": "code",
   "execution_count": 35,
   "id": "3626693d",
   "metadata": {},
   "outputs": [],
   "source": [
    "# Function VS. Method\n",
    "# Function: can have many parameters, exists on its own, function()\n",
    "# Method: the object is one of its parameters, belongs to a certain class, object.method()"
   ]
  },
  {
   "cell_type": "code",
   "execution_count": 1,
   "id": "56aa2c46",
   "metadata": {},
   "outputs": [],
   "source": [
    "# Modules versus Packages\n",
    "# Pay attention that Package = Library\n",
    "# A module is a set of pre-written codes containing variables, functions and classes\n",
    "# A Package is a set containing of different appropriate modules"
   ]
  },
  {
   "cell_type": "code",
   "execution_count": 2,
   "id": "7681c082",
   "metadata": {},
   "outputs": [],
   "source": [
    "# 4 ways of importing Modules\n",
    "\n",
    "import math"
   ]
  },
  {
   "cell_type": "code",
   "execution_count": 3,
   "id": "dce2d40d",
   "metadata": {},
   "outputs": [
    {
     "data": {
      "text/plain": [
       "4.0"
      ]
     },
     "execution_count": 3,
     "metadata": {},
     "output_type": "execute_result"
    }
   ],
   "source": [
    "math.sqrt(16)"
   ]
  },
  {
   "cell_type": "code",
   "execution_count": 4,
   "id": "e4a4fa8d",
   "metadata": {},
   "outputs": [
    {
     "data": {
      "text/plain": [
       "4.0"
      ]
     },
     "execution_count": 4,
     "metadata": {},
     "output_type": "execute_result"
    }
   ],
   "source": [
    "from math import sqrt\n",
    "sqrt(16)"
   ]
  },
  {
   "cell_type": "code",
   "execution_count": 6,
   "id": "ce1a89cc",
   "metadata": {},
   "outputs": [
    {
     "data": {
      "text/plain": [
       "5"
      ]
     },
     "execution_count": 6,
     "metadata": {},
     "output_type": "execute_result"
    }
   ],
   "source": [
    "import math as m\n",
    "int(m.sqrt(25))\n",
    "# m here is called 'alias'"
   ]
  },
  {
   "cell_type": "code",
   "execution_count": 7,
   "id": "3e70a6c3",
   "metadata": {},
   "outputs": [
    {
     "data": {
      "text/plain": [
       "6.0"
      ]
     },
     "execution_count": 7,
     "metadata": {},
     "output_type": "execute_result"
    }
   ],
   "source": [
    "# this is the specialist favourable\n",
    "from math import sqrt as s\n",
    "s(36)"
   ]
  },
  {
   "cell_type": "code",
   "execution_count": 9,
   "id": "d3d567f0",
   "metadata": {},
   "outputs": [
    {
     "data": {
      "text/plain": [
       "8"
      ]
     },
     "execution_count": 9,
     "metadata": {},
     "output_type": "execute_result"
    }
   ],
   "source": [
    "from math import *\n",
    "int(sqrt(64))\n",
    "# * means all\n",
    "# * is a sign of unprofessional coding, Because sometimes it produces bad results\n",
    "# Suppose that you import all methods from math.\n",
    "# Also you import another module that contain .sqrt().\n",
    "# Now if you apply .sqrt(), it's not clear that in which modules you want to apply .sqrt()\n",
    "# So, be careful"
   ]
  },
  {
   "cell_type": "code",
   "execution_count": 10,
   "id": "10feafff",
   "metadata": {
    "scrolled": false
   },
   "outputs": [
    {
     "name": "stdout",
     "output_type": "stream",
     "text": [
      "Help on built-in module math:\n",
      "\n",
      "NAME\n",
      "    math\n",
      "\n",
      "DESCRIPTION\n",
      "    This module provides access to the mathematical functions\n",
      "    defined by the C standard.\n",
      "\n",
      "FUNCTIONS\n",
      "    acos(x, /)\n",
      "        Return the arc cosine (measured in radians) of x.\n",
      "        \n",
      "        The result is between 0 and pi.\n",
      "    \n",
      "    acosh(x, /)\n",
      "        Return the inverse hyperbolic cosine of x.\n",
      "    \n",
      "    asin(x, /)\n",
      "        Return the arc sine (measured in radians) of x.\n",
      "        \n",
      "        The result is between -pi/2 and pi/2.\n",
      "    \n",
      "    asinh(x, /)\n",
      "        Return the inverse hyperbolic sine of x.\n",
      "    \n",
      "    atan(x, /)\n",
      "        Return the arc tangent (measured in radians) of x.\n",
      "        \n",
      "        The result is between -pi/2 and pi/2.\n",
      "    \n",
      "    atan2(y, x, /)\n",
      "        Return the arc tangent (measured in radians) of y/x.\n",
      "        \n",
      "        Unlike atan(y/x), the signs of both x and y are considered.\n",
      "    \n",
      "    atanh(x, /)\n",
      "        Return the inverse hyperbolic tangent of x.\n",
      "    \n",
      "    ceil(x, /)\n",
      "        Return the ceiling of x as an Integral.\n",
      "        \n",
      "        This is the smallest integer >= x.\n",
      "    \n",
      "    comb(n, k, /)\n",
      "        Number of ways to choose k items from n items without repetition and without order.\n",
      "        \n",
      "        Evaluates to n! / (k! * (n - k)!) when k <= n and evaluates\n",
      "        to zero when k > n.\n",
      "        \n",
      "        Also called the binomial coefficient because it is equivalent\n",
      "        to the coefficient of k-th term in polynomial expansion of the\n",
      "        expression (1 + x)**n.\n",
      "        \n",
      "        Raises TypeError if either of the arguments are not integers.\n",
      "        Raises ValueError if either of the arguments are negative.\n",
      "    \n",
      "    copysign(x, y, /)\n",
      "        Return a float with the magnitude (absolute value) of x but the sign of y.\n",
      "        \n",
      "        On platforms that support signed zeros, copysign(1.0, -0.0)\n",
      "        returns -1.0.\n",
      "    \n",
      "    cos(x, /)\n",
      "        Return the cosine of x (measured in radians).\n",
      "    \n",
      "    cosh(x, /)\n",
      "        Return the hyperbolic cosine of x.\n",
      "    \n",
      "    degrees(x, /)\n",
      "        Convert angle x from radians to degrees.\n",
      "    \n",
      "    dist(p, q, /)\n",
      "        Return the Euclidean distance between two points p and q.\n",
      "        \n",
      "        The points should be specified as sequences (or iterables) of\n",
      "        coordinates.  Both inputs must have the same dimension.\n",
      "        \n",
      "        Roughly equivalent to:\n",
      "            sqrt(sum((px - qx) ** 2.0 for px, qx in zip(p, q)))\n",
      "    \n",
      "    erf(x, /)\n",
      "        Error function at x.\n",
      "    \n",
      "    erfc(x, /)\n",
      "        Complementary error function at x.\n",
      "    \n",
      "    exp(x, /)\n",
      "        Return e raised to the power of x.\n",
      "    \n",
      "    expm1(x, /)\n",
      "        Return exp(x)-1.\n",
      "        \n",
      "        This function avoids the loss of precision involved in the direct evaluation of exp(x)-1 for small x.\n",
      "    \n",
      "    fabs(x, /)\n",
      "        Return the absolute value of the float x.\n",
      "    \n",
      "    factorial(x, /)\n",
      "        Find x!.\n",
      "        \n",
      "        Raise a ValueError if x is negative or non-integral.\n",
      "    \n",
      "    floor(x, /)\n",
      "        Return the floor of x as an Integral.\n",
      "        \n",
      "        This is the largest integer <= x.\n",
      "    \n",
      "    fmod(x, y, /)\n",
      "        Return fmod(x, y), according to platform C.\n",
      "        \n",
      "        x % y may differ.\n",
      "    \n",
      "    frexp(x, /)\n",
      "        Return the mantissa and exponent of x, as pair (m, e).\n",
      "        \n",
      "        m is a float and e is an int, such that x = m * 2.**e.\n",
      "        If x is 0, m and e are both 0.  Else 0.5 <= abs(m) < 1.0.\n",
      "    \n",
      "    fsum(seq, /)\n",
      "        Return an accurate floating point sum of values in the iterable seq.\n",
      "        \n",
      "        Assumes IEEE-754 floating point arithmetic.\n",
      "    \n",
      "    gamma(x, /)\n",
      "        Gamma function at x.\n",
      "    \n",
      "    gcd(*integers)\n",
      "        Greatest Common Divisor.\n",
      "    \n",
      "    hypot(...)\n",
      "        hypot(*coordinates) -> value\n",
      "        \n",
      "        Multidimensional Euclidean distance from the origin to a point.\n",
      "        \n",
      "        Roughly equivalent to:\n",
      "            sqrt(sum(x**2 for x in coordinates))\n",
      "        \n",
      "        For a two dimensional point (x, y), gives the hypotenuse\n",
      "        using the Pythagorean theorem:  sqrt(x*x + y*y).\n",
      "        \n",
      "        For example, the hypotenuse of a 3/4/5 right triangle is:\n",
      "        \n",
      "            >>> hypot(3.0, 4.0)\n",
      "            5.0\n",
      "    \n",
      "    isclose(a, b, *, rel_tol=1e-09, abs_tol=0.0)\n",
      "        Determine whether two floating point numbers are close in value.\n",
      "        \n",
      "          rel_tol\n",
      "            maximum difference for being considered \"close\", relative to the\n",
      "            magnitude of the input values\n",
      "          abs_tol\n",
      "            maximum difference for being considered \"close\", regardless of the\n",
      "            magnitude of the input values\n",
      "        \n",
      "        Return True if a is close in value to b, and False otherwise.\n",
      "        \n",
      "        For the values to be considered close, the difference between them\n",
      "        must be smaller than at least one of the tolerances.\n",
      "        \n",
      "        -inf, inf and NaN behave similarly to the IEEE 754 Standard.  That\n",
      "        is, NaN is not close to anything, even itself.  inf and -inf are\n",
      "        only close to themselves.\n",
      "    \n",
      "    isfinite(x, /)\n",
      "        Return True if x is neither an infinity nor a NaN, and False otherwise.\n",
      "    \n",
      "    isinf(x, /)\n",
      "        Return True if x is a positive or negative infinity, and False otherwise.\n",
      "    \n",
      "    isnan(x, /)\n",
      "        Return True if x is a NaN (not a number), and False otherwise.\n",
      "    \n",
      "    isqrt(n, /)\n",
      "        Return the integer part of the square root of the input.\n",
      "    \n",
      "    lcm(*integers)\n",
      "        Least Common Multiple.\n",
      "    \n",
      "    ldexp(x, i, /)\n",
      "        Return x * (2**i).\n",
      "        \n",
      "        This is essentially the inverse of frexp().\n",
      "    \n",
      "    lgamma(x, /)\n",
      "        Natural logarithm of absolute value of Gamma function at x.\n",
      "    \n",
      "    log(...)\n",
      "        log(x, [base=math.e])\n",
      "        Return the logarithm of x to the given base.\n",
      "        \n",
      "        If the base not specified, returns the natural logarithm (base e) of x.\n",
      "    \n",
      "    log10(x, /)\n",
      "        Return the base 10 logarithm of x.\n",
      "    \n",
      "    log1p(x, /)\n",
      "        Return the natural logarithm of 1+x (base e).\n",
      "        \n",
      "        The result is computed in a way which is accurate for x near zero.\n",
      "    \n",
      "    log2(x, /)\n",
      "        Return the base 2 logarithm of x.\n",
      "    \n",
      "    modf(x, /)\n",
      "        Return the fractional and integer parts of x.\n",
      "        \n",
      "        Both results carry the sign of x and are floats.\n",
      "    \n",
      "    nextafter(x, y, /)\n",
      "        Return the next floating-point value after x towards y.\n",
      "    \n",
      "    perm(n, k=None, /)\n",
      "        Number of ways to choose k items from n items without repetition and with order.\n",
      "        \n",
      "        Evaluates to n! / (n - k)! when k <= n and evaluates\n",
      "        to zero when k > n.\n",
      "        \n",
      "        If k is not specified or is None, then k defaults to n\n",
      "        and the function returns n!.\n",
      "        \n",
      "        Raises TypeError if either of the arguments are not integers.\n",
      "        Raises ValueError if either of the arguments are negative.\n",
      "    \n",
      "    pow(x, y, /)\n",
      "        Return x**y (x to the power of y).\n",
      "    \n",
      "    prod(iterable, /, *, start=1)\n",
      "        Calculate the product of all the elements in the input iterable.\n",
      "        \n",
      "        The default start value for the product is 1.\n",
      "        \n",
      "        When the iterable is empty, return the start value.  This function is\n",
      "        intended specifically for use with numeric values and may reject\n",
      "        non-numeric types.\n",
      "    \n",
      "    radians(x, /)\n",
      "        Convert angle x from degrees to radians.\n",
      "    \n",
      "    remainder(x, y, /)\n",
      "        Difference between x and the closest integer multiple of y.\n",
      "        \n",
      "        Return x - n*y where n*y is the closest integer multiple of y.\n",
      "        In the case where x is exactly halfway between two multiples of\n",
      "        y, the nearest even value of n is used. The result is always exact.\n",
      "    \n",
      "    sin(x, /)\n",
      "        Return the sine of x (measured in radians).\n",
      "    \n",
      "    sinh(x, /)\n",
      "        Return the hyperbolic sine of x.\n",
      "    \n",
      "    sqrt(x, /)\n",
      "        Return the square root of x.\n",
      "    \n",
      "    tan(x, /)\n",
      "        Return the tangent of x (measured in radians).\n",
      "    \n",
      "    tanh(x, /)\n",
      "        Return the hyperbolic tangent of x.\n",
      "    \n",
      "    trunc(x, /)\n",
      "        Truncates the Real x to the nearest Integral toward 0.\n",
      "        \n",
      "        Uses the __trunc__ magic method.\n",
      "    \n",
      "    ulp(x, /)\n",
      "        Return the value of the least significant bit of the float x.\n",
      "\n",
      "DATA\n",
      "    e = 2.718281828459045\n",
      "    inf = inf\n",
      "    nan = nan\n",
      "    pi = 3.141592653589793\n",
      "    tau = 6.283185307179586\n",
      "\n",
      "FILE\n",
      "    (built-in)\n",
      "\n",
      "\n"
     ]
    }
   ],
   "source": [
    "help(math)"
   ]
  },
  {
   "cell_type": "code",
   "execution_count": 11,
   "id": "190e136d",
   "metadata": {},
   "outputs": [
    {
     "name": "stdout",
     "output_type": "stream",
     "text": [
      "Help on built-in function sqrt in module math:\n",
      "\n",
      "sqrt(x, /)\n",
      "    Return the square root of x.\n",
      "\n"
     ]
    }
   ],
   "source": [
    "help(sqrt)"
   ]
  }
 ],
 "metadata": {
  "kernelspec": {
   "display_name": "Python 3 (ipykernel)",
   "language": "python",
   "name": "python3"
  },
  "language_info": {
   "codemirror_mode": {
    "name": "ipython",
    "version": 3
   },
   "file_extension": ".py",
   "mimetype": "text/x-python",
   "name": "python",
   "nbconvert_exporter": "python",
   "pygments_lexer": "ipython3",
   "version": "3.10.5"
  }
 },
 "nbformat": 4,
 "nbformat_minor": 5
}
